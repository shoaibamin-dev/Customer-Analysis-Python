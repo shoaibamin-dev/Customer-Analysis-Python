{
  "cells": [
    {
      "cell_type": "raw",
      "metadata": {
        "_cell_guid": "b1076dfc-b9ad-4769-8c92-a6c4dae69d19",
        "_uuid": "8f2839f25d086af736a60e9eeb907d3b93b6e0e5",
        "id": "yQQCQmwXxHtV"
      },
      "source": [
        "# This Python 3 environment comes with many helpful analytics libraries installed\n",
        "# It is defined by the kaggle/python Docker image: https://github.com/kaggle/docker-python\n",
        "# For example, here's several helpful packages to load\n",
        "\n",
        "import numpy as np # linear algebra\n",
        "import pandas as pd # data processing, CSV file I/O (e.g. pd.read_csv)\n",
        "\n",
        "# Input data files are available in the read-only \"../input/\" directory\n",
        "# For example, running this (by clicking run or pressing Shift+Enter) will list all files under the input directory\n",
        "\n",
        "import os\n",
        "for dirname, _, filenames in os.walk('/kaggle/input'):\n",
        "    for filename in filenames:\n",
        "        print(os.path.join(dirname, filename))\n",
        "\n",
        "# You can write up to 20GB to the current directory (/kaggle/working/) that gets preserved as output when you create a version using \"Save & Run All\" \n",
        "# You can also write temporary files to /kaggle/temp/, but they won't be saved outside of the current session"
      ]
    },
    {
      "cell_type": "markdown",
      "metadata": {},
      "source": []
    },
    {
      "cell_type": "code",
      "execution_count": 1,
      "metadata": {
        "execution": {
          "iopub.execute_input": "2021-07-07T14:55:48.748011Z",
          "iopub.status.busy": "2021-07-07T14:55:48.747238Z",
          "iopub.status.idle": "2021-07-07T14:55:48.753896Z",
          "shell.execute_reply": "2021-07-07T14:55:48.753069Z",
          "shell.execute_reply.started": "2021-07-07T14:55:48.747958Z"
        },
        "id": "-AkU45T0xHta",
        "trusted": true
      },
      "outputs": [],
      "source": [
        "import pandas as pd\n",
        "import numpy as np\n",
        "import matplotlib.pyplot as plt \n",
        "from sklearn.cluster import KMeans\n",
        "import seaborn as sns\n",
        "import warnings\n",
        "warnings.filterwarnings('ignore')"
      ]
    },
    {
      "cell_type": "code",
      "execution_count": 3,
      "metadata": {
        "colab": {
          "base_uri": "https://localhost:8080/",
          "height": 204
        },
        "execution": {
          "iopub.execute_input": "2021-07-07T14:55:48.756535Z",
          "iopub.status.busy": "2021-07-07T14:55:48.755788Z",
          "iopub.status.idle": "2021-07-07T14:55:48.812652Z",
          "shell.execute_reply": "2021-07-07T14:55:48.811634Z",
          "shell.execute_reply.started": "2021-07-07T14:55:48.756485Z"
        },
        "id": "m7tFnPJRxHtd",
        "outputId": "844f3b2e-e1c5-47d7-ba9e-044e13622159",
        "trusted": true
      },
      "outputs": [
        {
          "data": {
            "text/html": [
              "<div>\n",
              "<style scoped>\n",
              "    .dataframe tbody tr th:only-of-type {\n",
              "        vertical-align: middle;\n",
              "    }\n",
              "\n",
              "    .dataframe tbody tr th {\n",
              "        vertical-align: top;\n",
              "    }\n",
              "\n",
              "    .dataframe thead th {\n",
              "        text-align: right;\n",
              "    }\n",
              "</style>\n",
              "<table border=\"1\" class=\"dataframe\">\n",
              "  <thead>\n",
              "    <tr style=\"text-align: right;\">\n",
              "      <th></th>\n",
              "      <th>ID</th>\n",
              "      <th>Sex</th>\n",
              "      <th>Marital status</th>\n",
              "      <th>Age</th>\n",
              "      <th>Education</th>\n",
              "      <th>Income</th>\n",
              "      <th>Occupation</th>\n",
              "      <th>Settlement size</th>\n",
              "    </tr>\n",
              "  </thead>\n",
              "  <tbody>\n",
              "    <tr>\n",
              "      <th>0</th>\n",
              "      <td>100000001</td>\n",
              "      <td>0</td>\n",
              "      <td>0</td>\n",
              "      <td>67</td>\n",
              "      <td>2</td>\n",
              "      <td>124670</td>\n",
              "      <td>1</td>\n",
              "      <td>2</td>\n",
              "    </tr>\n",
              "    <tr>\n",
              "      <th>1</th>\n",
              "      <td>100000002</td>\n",
              "      <td>1</td>\n",
              "      <td>1</td>\n",
              "      <td>22</td>\n",
              "      <td>1</td>\n",
              "      <td>150773</td>\n",
              "      <td>1</td>\n",
              "      <td>2</td>\n",
              "    </tr>\n",
              "    <tr>\n",
              "      <th>2</th>\n",
              "      <td>100000003</td>\n",
              "      <td>0</td>\n",
              "      <td>0</td>\n",
              "      <td>49</td>\n",
              "      <td>1</td>\n",
              "      <td>89210</td>\n",
              "      <td>0</td>\n",
              "      <td>0</td>\n",
              "    </tr>\n",
              "    <tr>\n",
              "      <th>3</th>\n",
              "      <td>100000004</td>\n",
              "      <td>0</td>\n",
              "      <td>0</td>\n",
              "      <td>45</td>\n",
              "      <td>1</td>\n",
              "      <td>171565</td>\n",
              "      <td>1</td>\n",
              "      <td>1</td>\n",
              "    </tr>\n",
              "    <tr>\n",
              "      <th>4</th>\n",
              "      <td>100000005</td>\n",
              "      <td>0</td>\n",
              "      <td>0</td>\n",
              "      <td>53</td>\n",
              "      <td>1</td>\n",
              "      <td>149031</td>\n",
              "      <td>1</td>\n",
              "      <td>1</td>\n",
              "    </tr>\n",
              "  </tbody>\n",
              "</table>\n",
              "</div>"
            ],
            "text/plain": [
              "          ID  Sex  Marital status  ...  Income  Occupation  Settlement size\n",
              "0  100000001    0               0  ...  124670           1                2\n",
              "1  100000002    1               1  ...  150773           1                2\n",
              "2  100000003    0               0  ...   89210           0                0\n",
              "3  100000004    0               0  ...  171565           1                1\n",
              "4  100000005    0               0  ...  149031           1                1\n",
              "\n",
              "[5 rows x 8 columns]"
            ]
          },
          "execution_count": 3,
          "metadata": {
            "tags": []
          },
          "output_type": "execute_result"
        }
      ],
      "source": [
        "data=pd.read_csv(\"./segmentation data.csv\")\n",
        "data.head()"
      ]
    },
    {
      "cell_type": "code",
      "execution_count": null,
      "metadata": {
        "execution": {
          "iopub.execute_input": "2021-07-07T14:56:01.513992Z",
          "iopub.status.busy": "2021-07-07T14:56:01.51361Z",
          "iopub.status.idle": "2021-07-07T14:56:01.522293Z",
          "shell.execute_reply": "2021-07-07T14:56:01.521498Z",
          "shell.execute_reply.started": "2021-07-07T14:56:01.51396Z"
        },
        "id": "pXilo-HhxHte",
        "trusted": true
      },
      "outputs": [],
      "source": [
        "data.dtypes"
      ]
    },
    {
      "cell_type": "code",
      "execution_count": null,
      "metadata": {
        "execution": {
          "iopub.execute_input": "2021-07-07T14:56:17.980317Z",
          "iopub.status.busy": "2021-07-07T14:56:17.979876Z",
          "iopub.status.idle": "2021-07-07T14:56:17.987338Z",
          "shell.execute_reply": "2021-07-07T14:56:17.985958Z",
          "shell.execute_reply.started": "2021-07-07T14:56:17.980281Z"
        },
        "id": "06P0gYZyxHtf",
        "trusted": true
      },
      "outputs": [],
      "source": [
        "data.shape"
      ]
    },
    {
      "cell_type": "code",
      "execution_count": null,
      "metadata": {
        "execution": {
          "iopub.execute_input": "2021-07-07T14:56:30.545645Z",
          "iopub.status.busy": "2021-07-07T14:56:30.545289Z",
          "iopub.status.idle": "2021-07-07T14:56:30.555703Z",
          "shell.execute_reply": "2021-07-07T14:56:30.554079Z",
          "shell.execute_reply.started": "2021-07-07T14:56:30.545617Z"
        },
        "id": "oEWov6FLxHtg",
        "trusted": true
      },
      "outputs": [],
      "source": [
        "data.isnull().any()"
      ]
    },
    {
      "cell_type": "code",
      "execution_count": null,
      "metadata": {
        "execution": {
          "iopub.execute_input": "2021-07-07T14:56:57.558319Z",
          "iopub.status.busy": "2021-07-07T14:56:57.557803Z",
          "iopub.status.idle": "2021-07-07T14:56:57.565149Z",
          "shell.execute_reply": "2021-07-07T14:56:57.56395Z",
          "shell.execute_reply.started": "2021-07-07T14:56:57.558288Z"
        },
        "id": "DV4bN79axHth",
        "trusted": true
      },
      "outputs": [],
      "source": [
        "data['ID'].unique()\n",
        "len(data['ID'].unique())"
      ]
    },
    {
      "cell_type": "code",
      "execution_count": null,
      "metadata": {
        "execution": {
          "iopub.execute_input": "2021-07-07T14:57:09.993051Z",
          "iopub.status.busy": "2021-07-07T14:57:09.992488Z",
          "iopub.status.idle": "2021-07-07T14:57:10.229368Z",
          "shell.execute_reply": "2021-07-07T14:57:10.228259Z",
          "shell.execute_reply.started": "2021-07-07T14:57:09.993019Z"
        },
        "id": "t3FIT8pnxHti",
        "trusted": true
      },
      "outputs": [],
      "source": [
        "plt.scatter(data['Age'],data['Income'])\n",
        "plt.xlabel('Age')\n",
        "plt.ylabel('Income')\n",
        "plt.show()"
      ]
    },
    {
      "cell_type": "code",
      "execution_count": null,
      "metadata": {
        "execution": {
          "iopub.execute_input": "2021-07-07T14:57:26.04554Z",
          "iopub.status.busy": "2021-07-07T14:57:26.045125Z",
          "iopub.status.idle": "2021-07-07T14:57:26.055727Z",
          "shell.execute_reply": "2021-07-07T14:57:26.054788Z",
          "shell.execute_reply.started": "2021-07-07T14:57:26.045501Z"
        },
        "id": "Dk5BHOCjxHtk",
        "trusted": true
      },
      "outputs": [],
      "source": [
        "x=data[['Age','Income']]\n",
        "x.head()"
      ]
    },
    {
      "cell_type": "code",
      "execution_count": null,
      "metadata": {
        "execution": {
          "iopub.execute_input": "2021-07-07T14:57:43.059332Z",
          "iopub.status.busy": "2021-07-07T14:57:43.058777Z",
          "iopub.status.idle": "2021-07-07T14:57:43.068337Z",
          "shell.execute_reply": "2021-07-07T14:57:43.067254Z",
          "shell.execute_reply.started": "2021-07-07T14:57:43.059296Z"
        },
        "id": "DA3gAEEuxHtl",
        "trusted": true
      },
      "outputs": [],
      "source": [
        "from sklearn.preprocessing import StandardScaler\n",
        "ms=StandardScaler()\n",
        "stand=ms.fit_transform(x)"
      ]
    },
    {
      "cell_type": "code",
      "execution_count": null,
      "metadata": {
        "execution": {
          "iopub.execute_input": "2021-07-07T14:57:55.730256Z",
          "iopub.status.busy": "2021-07-07T14:57:55.729692Z",
          "iopub.status.idle": "2021-07-07T14:57:57.144889Z",
          "shell.execute_reply": "2021-07-07T14:57:57.143464Z",
          "shell.execute_reply.started": "2021-07-07T14:57:55.73022Z"
        },
        "id": "vPY002v4xHtm",
        "trusted": true
      },
      "outputs": [],
      "source": [
        "wt=[]\n",
        "for i in range(1, 10):\n",
        "    kmeans=KMeans(n_clusters=i,init= 'k-means++', max_iter=300, n_init=10, random_state=0)\n",
        "    kmeans.fit(stand)\n",
        "    wt.append(kmeans.inertia_)\n",
        "plt.plot(range(1, 10),wt)    \n",
        "plt.title(\"Elbow method\")\n",
        "plt.xlabel(\"No of Clusters\")\n",
        "plt.ylabel(\"wt\")\n",
        "plt.show()"
      ]
    },
    {
      "cell_type": "code",
      "execution_count": null,
      "metadata": {
        "execution": {
          "iopub.execute_input": "2021-07-07T14:58:19.311119Z",
          "iopub.status.busy": "2021-07-07T14:58:19.31062Z",
          "iopub.status.idle": "2021-07-07T14:58:19.465227Z",
          "shell.execute_reply": "2021-07-07T14:58:19.464256Z",
          "shell.execute_reply.started": "2021-07-07T14:58:19.311087Z"
        },
        "id": "v7hGWDKQxHtn",
        "trusted": true
      },
      "outputs": [],
      "source": [
        "kmeans=KMeans(n_clusters=5,random_state=0)\n",
        "kmeans.fit(stand)"
      ]
    },
    {
      "cell_type": "code",
      "execution_count": null,
      "metadata": {
        "execution": {
          "iopub.execute_input": "2021-07-07T14:58:36.665697Z",
          "iopub.status.busy": "2021-07-07T14:58:36.665123Z",
          "iopub.status.idle": "2021-07-07T14:58:36.802083Z",
          "shell.execute_reply": "2021-07-07T14:58:36.800946Z",
          "shell.execute_reply.started": "2021-07-07T14:58:36.665662Z"
        },
        "id": "grgt-jPpxHto",
        "trusted": true
      },
      "outputs": [],
      "source": [
        "prediction=kmeans.fit_predict(stand)\n",
        "prediction"
      ]
    },
    {
      "cell_type": "code",
      "execution_count": null,
      "metadata": {
        "execution": {
          "iopub.execute_input": "2021-07-07T14:58:48.159809Z",
          "iopub.status.busy": "2021-07-07T14:58:48.159463Z",
          "iopub.status.idle": "2021-07-07T14:58:48.175532Z",
          "shell.execute_reply": "2021-07-07T14:58:48.174387Z",
          "shell.execute_reply.started": "2021-07-07T14:58:48.159781Z"
        },
        "id": "ZmVDjz1GxHtp",
        "trusted": true
      },
      "outputs": [],
      "source": [
        "new_data=data.copy()\n",
        "new_data['cluster']=prediction\n",
        "new_data.head()"
      ]
    },
    {
      "cell_type": "code",
      "execution_count": null,
      "metadata": {
        "execution": {
          "iopub.execute_input": "2021-07-07T14:59:04.143122Z",
          "iopub.status.busy": "2021-07-07T14:59:04.142748Z",
          "iopub.status.idle": "2021-07-07T14:59:04.351764Z",
          "shell.execute_reply": "2021-07-07T14:59:04.350468Z",
          "shell.execute_reply.started": "2021-07-07T14:59:04.143093Z"
        },
        "id": "EJ6wTR80xHtq",
        "trusted": true
      },
      "outputs": [],
      "source": [
        "plt.scatter(new_data['Age'],new_data[\"Income\"],c=new_data['cluster'],cmap='rainbow')\n",
        "plt.xlabel('Age')\n",
        "plt.ylabel('Income')\n",
        "plt.show()"
      ]
    }
  ],
  "metadata": {
    "colab": {
      "name": "custome-cluster (1).ipynb",
      "provenance": []
    },
    "kernelspec": {
      "display_name": "Python 3",
      "language": "python",
      "name": "python3"
    },
    "language_info": {
      "codemirror_mode": {
        "name": "ipython",
        "version": 3
      },
      "file_extension": ".py",
      "mimetype": "text/x-python",
      "name": "python",
      "nbconvert_exporter": "python",
      "pygments_lexer": "ipython3",
      "version": "3.6.4"
    }
  },
  "nbformat": 4,
  "nbformat_minor": 0
}
